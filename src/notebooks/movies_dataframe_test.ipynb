{
 "cells": [
  {
   "cell_type": "code",
   "execution_count": 1,
   "id": "15de5843-50eb-4247-98bb-82fca1413d9b",
   "metadata": {},
   "outputs": [],
   "source": [
    "import setup_django\n",
    "\n",
    "setup_django.main()"
   ]
  },
  {
   "cell_type": "code",
   "execution_count": 4,
   "id": "a4ac63d9-1ecd-472e-9511-75c8b3adb1b3",
   "metadata": {},
   "outputs": [
    {
     "data": {
      "text/plain": [
       "<MovieQuerySet [{'title': 'Casino', 'released': datetime.date(1995, 11, 22), 'ratings_average': Decimal('4.71'), 'ratings_count': 14}, {'title': 'Heat', 'released': datetime.date(1995, 12, 15), 'ratings_average': Decimal('4.56'), 'ratings_count': 18}, {'title': 'Four Rooms', 'released': datetime.date(1995, 12, 9), 'ratings_average': Decimal('4.36'), 'ratings_count': 14}, {'title': 'The Southerner', 'released': datetime.date(1945, 4, 30), 'ratings_average': Decimal('4.50'), 'ratings_count': 14}, {'title': 'Father of the Bride Part II', 'released': datetime.date(1995, 2, 10), 'ratings_average': Decimal('4.68'), 'ratings_count': 22}, {'title': 'Nixon', 'released': datetime.date(1995, 12, 22), 'ratings_average': Decimal('4.43'), 'ratings_count': 14}, {'title': 'Sense and Sensibility', 'released': datetime.date(1995, 12, 13), 'ratings_average': Decimal('4.56'), 'ratings_count': 16}, {'title': 'Sabrina', 'released': datetime.date(1995, 12, 15), 'ratings_average': Decimal('4.80'), 'ratings_count': 15}, {'title': 'Tom and Huck', 'released': datetime.date(1995, 12, 22), 'ratings_average': Decimal('4.77'), 'ratings_count': 13}, {'title': 'The American President', 'released': datetime.date(1995, 11, 17), 'ratings_average': Decimal('5.00'), 'ratings_count': 11}, {'title': 'Emmanuelle in Soho', 'released': datetime.date(1981, 1, 1), 'ratings_average': Decimal('4.52'), 'ratings_count': 21}, {'title': 'Cutthroat Island', 'released': datetime.date(1995, 12, 22), 'ratings_average': Decimal('4.62'), 'ratings_count': 13}, {'title': 'Dracula: Dead and Loving It', 'released': datetime.date(1995, 12, 22), 'ratings_average': Decimal('4.76'), 'ratings_count': 17}, {'title': 'The Indian in the Cupboard', 'released': datetime.date(1995, 7, 14), 'ratings_average': Decimal('4.47'), 'ratings_count': 15}, {'title': 'GoldenEye', 'released': datetime.date(1995, 11, 16), 'ratings_average': Decimal('4.80'), 'ratings_count': 15}, {'title': 'Balto', 'released': datetime.date(1995, 12, 22), 'ratings_average': Decimal('4.81'), 'ratings_count': 21}, {'title': 'Ace Ventura: When Nature Calls', 'released': datetime.date(1995, 11, 10), 'ratings_average': Decimal('3.92'), 'ratings_count': 13}, {'title': 'They Have Changed Their Face', 'released': datetime.date(1971, 7, 2), 'ratings_average': Decimal('4.85'), 'ratings_count': 13}, {'title': 'Copycat', 'released': datetime.date(1995, 10, 27), 'ratings_average': Decimal('4.67'), 'ratings_count': 18}, {'title': 'Money Train', 'released': datetime.date(1995, 11, 21), 'ratings_average': Decimal('4.83'), 'ratings_count': 12}, '...(remaining elements truncated)...']>"
      ]
     },
     "execution_count": 4,
     "metadata": {},
     "output_type": "execute_result"
    }
   ],
   "source": [
    "from movies.models import Movie\n",
    "\n",
    "qs = Movie.objects.all().values('title', 'released', 'ratings_average', 'ratings_count')\n",
    "qs"
   ]
  },
  {
   "cell_type": "code",
   "execution_count": 5,
   "id": "b74f1894-48c5-472a-8405-4daa1d5e42c2",
   "metadata": {},
   "outputs": [
    {
     "data": {
      "text/html": [
       "<div>\n",
       "<style scoped>\n",
       "    .dataframe tbody tr th:only-of-type {\n",
       "        vertical-align: middle;\n",
       "    }\n",
       "\n",
       "    .dataframe tbody tr th {\n",
       "        vertical-align: top;\n",
       "    }\n",
       "\n",
       "    .dataframe thead th {\n",
       "        text-align: right;\n",
       "    }\n",
       "</style>\n",
       "<table border=\"1\" class=\"dataframe\">\n",
       "  <thead>\n",
       "    <tr style=\"text-align: right;\">\n",
       "      <th></th>\n",
       "      <th>title</th>\n",
       "      <th>released</th>\n",
       "      <th>ratings_average</th>\n",
       "      <th>ratings_count</th>\n",
       "    </tr>\n",
       "  </thead>\n",
       "  <tbody>\n",
       "    <tr>\n",
       "      <th>0</th>\n",
       "      <td>Casino</td>\n",
       "      <td>1995-11-22</td>\n",
       "      <td>4.71</td>\n",
       "      <td>14</td>\n",
       "    </tr>\n",
       "    <tr>\n",
       "      <th>1</th>\n",
       "      <td>Heat</td>\n",
       "      <td>1995-12-15</td>\n",
       "      <td>4.56</td>\n",
       "      <td>18</td>\n",
       "    </tr>\n",
       "    <tr>\n",
       "      <th>2</th>\n",
       "      <td>Four Rooms</td>\n",
       "      <td>1995-12-09</td>\n",
       "      <td>4.36</td>\n",
       "      <td>14</td>\n",
       "    </tr>\n",
       "    <tr>\n",
       "      <th>3</th>\n",
       "      <td>The Southerner</td>\n",
       "      <td>1945-04-30</td>\n",
       "      <td>4.50</td>\n",
       "      <td>14</td>\n",
       "    </tr>\n",
       "    <tr>\n",
       "      <th>4</th>\n",
       "      <td>Father of the Bride Part II</td>\n",
       "      <td>1995-02-10</td>\n",
       "      <td>4.68</td>\n",
       "      <td>22</td>\n",
       "    </tr>\n",
       "    <tr>\n",
       "      <th>5</th>\n",
       "      <td>Nixon</td>\n",
       "      <td>1995-12-22</td>\n",
       "      <td>4.43</td>\n",
       "      <td>14</td>\n",
       "    </tr>\n",
       "    <tr>\n",
       "      <th>6</th>\n",
       "      <td>Sense and Sensibility</td>\n",
       "      <td>1995-12-13</td>\n",
       "      <td>4.56</td>\n",
       "      <td>16</td>\n",
       "    </tr>\n",
       "    <tr>\n",
       "      <th>7</th>\n",
       "      <td>Sabrina</td>\n",
       "      <td>1995-12-15</td>\n",
       "      <td>4.80</td>\n",
       "      <td>15</td>\n",
       "    </tr>\n",
       "    <tr>\n",
       "      <th>8</th>\n",
       "      <td>Tom and Huck</td>\n",
       "      <td>1995-12-22</td>\n",
       "      <td>4.77</td>\n",
       "      <td>13</td>\n",
       "    </tr>\n",
       "    <tr>\n",
       "      <th>9</th>\n",
       "      <td>The American President</td>\n",
       "      <td>1995-11-17</td>\n",
       "      <td>5.00</td>\n",
       "      <td>11</td>\n",
       "    </tr>\n",
       "  </tbody>\n",
       "</table>\n",
       "</div>"
      ],
      "text/plain": [
       "                         title    released ratings_average  ratings_count\n",
       "0                       Casino  1995-11-22            4.71             14\n",
       "1                         Heat  1995-12-15            4.56             18\n",
       "2                   Four Rooms  1995-12-09            4.36             14\n",
       "3               The Southerner  1945-04-30            4.50             14\n",
       "4  Father of the Bride Part II  1995-02-10            4.68             22\n",
       "5                        Nixon  1995-12-22            4.43             14\n",
       "6        Sense and Sensibility  1995-12-13            4.56             16\n",
       "7                      Sabrina  1995-12-15            4.80             15\n",
       "8                 Tom and Huck  1995-12-22            4.77             13\n",
       "9       The American President  1995-11-17            5.00             11"
      ]
     },
     "execution_count": 5,
     "metadata": {},
     "output_type": "execute_result"
    }
   ],
   "source": [
    "import pandas as pd\n",
    "\n",
    "df = pd.DataFrame(qs)\n",
    "df.head(n=10)"
   ]
  }
 ],
 "metadata": {
  "kernelspec": {
   "display_name": "Python 3 (ipykernel)",
   "language": "python",
   "name": "python3"
  },
  "language_info": {
   "codemirror_mode": {
    "name": "ipython",
    "version": 3
   },
   "file_extension": ".py",
   "mimetype": "text/x-python",
   "name": "python",
   "nbconvert_exporter": "python",
   "pygments_lexer": "ipython3",
   "version": "3.11.8"
  }
 },
 "nbformat": 4,
 "nbformat_minor": 5
}
