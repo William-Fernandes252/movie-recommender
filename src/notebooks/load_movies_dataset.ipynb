{
 "cells": [
  {
   "cell_type": "code",
   "execution_count": 1,
   "id": "95f4eeea-9edd-48b8-a3cf-704c4ac39efa",
   "metadata": {},
   "outputs": [],
   "source": [
    "import pandas as pd\n",
    "import setup_django\n",
    "\n",
    "setup_django.main()"
   ]
  },
  {
   "cell_type": "code",
   "execution_count": 2,
   "id": "d74df995-09bd-4e24-a8e8-662a38155637",
   "metadata": {},
   "outputs": [
    {
     "data": {
      "text/plain": [
       "True"
      ]
     },
     "execution_count": 2,
     "metadata": {},
     "output_type": "execute_result"
    }
   ],
   "source": [
    "from django.conf import settings\n",
    "\n",
    "movies_path = settings.BASE_DIR / \"data\" / \"movies_metadata.csv\"\n",
    "assert movies_path.exists()"
   ]
  },
  {
   "cell_type": "code",
   "execution_count": 3,
   "id": "e0eac639-0dc9-4adc-b60f-da4efd6d7e12",
   "metadata": {},
   "outputs": [
    {
     "data": {
      "text/html": [
       "<div>\n",
       "<style scoped>\n",
       "    .dataframe tbody tr th:only-of-type {\n",
       "        vertical-align: middle;\n",
       "    }\n",
       "\n",
       "    .dataframe tbody tr th {\n",
       "        vertical-align: top;\n",
       "    }\n",
       "\n",
       "    .dataframe thead th {\n",
       "        text-align: right;\n",
       "    }\n",
       "</style>\n",
       "<table border=\"1\" class=\"dataframe\">\n",
       "  <thead>\n",
       "    <tr style=\"text-align: right;\">\n",
       "      <th></th>\n",
       "      <th>id</th>\n",
       "      <th>overview</th>\n",
       "      <th>release_date</th>\n",
       "      <th>title</th>\n",
       "    </tr>\n",
       "  </thead>\n",
       "  <tbody>\n",
       "    <tr>\n",
       "      <th>0</th>\n",
       "      <td>862</td>\n",
       "      <td>Led by Woody, Andy's toys live happily in his ...</td>\n",
       "      <td>1995-10-30</td>\n",
       "      <td>Toy Story</td>\n",
       "    </tr>\n",
       "    <tr>\n",
       "      <th>1</th>\n",
       "      <td>8844</td>\n",
       "      <td>When siblings Judy and Peter discover an encha...</td>\n",
       "      <td>1995-12-15</td>\n",
       "      <td>Jumanji</td>\n",
       "    </tr>\n",
       "    <tr>\n",
       "      <th>2</th>\n",
       "      <td>15602</td>\n",
       "      <td>A family wedding reignites the ancient feud be...</td>\n",
       "      <td>1995-12-22</td>\n",
       "      <td>Grumpier Old Men</td>\n",
       "    </tr>\n",
       "    <tr>\n",
       "      <th>3</th>\n",
       "      <td>31357</td>\n",
       "      <td>Cheated on, mistreated and stepped on, the wom...</td>\n",
       "      <td>1995-12-22</td>\n",
       "      <td>Waiting to Exhale</td>\n",
       "    </tr>\n",
       "    <tr>\n",
       "      <th>4</th>\n",
       "      <td>11862</td>\n",
       "      <td>Just when George Banks has recovered from his ...</td>\n",
       "      <td>1995-02-10</td>\n",
       "      <td>Father of the Bride Part II</td>\n",
       "    </tr>\n",
       "    <tr>\n",
       "      <th>5</th>\n",
       "      <td>949</td>\n",
       "      <td>Obsessive master thief, Neil McCauley leads a ...</td>\n",
       "      <td>1995-12-15</td>\n",
       "      <td>Heat</td>\n",
       "    </tr>\n",
       "    <tr>\n",
       "      <th>6</th>\n",
       "      <td>11860</td>\n",
       "      <td>An ugly duckling having undergone a remarkable...</td>\n",
       "      <td>1995-12-15</td>\n",
       "      <td>Sabrina</td>\n",
       "    </tr>\n",
       "    <tr>\n",
       "      <th>7</th>\n",
       "      <td>45325</td>\n",
       "      <td>A mischievous young boy, Tom Sawyer, witnesses...</td>\n",
       "      <td>1995-12-22</td>\n",
       "      <td>Tom and Huck</td>\n",
       "    </tr>\n",
       "    <tr>\n",
       "      <th>8</th>\n",
       "      <td>9091</td>\n",
       "      <td>International action superstar Jean Claude Van...</td>\n",
       "      <td>1995-12-22</td>\n",
       "      <td>Sudden Death</td>\n",
       "    </tr>\n",
       "    <tr>\n",
       "      <th>9</th>\n",
       "      <td>710</td>\n",
       "      <td>James Bond must unmask the mysterious head of ...</td>\n",
       "      <td>1995-11-16</td>\n",
       "      <td>GoldenEye</td>\n",
       "    </tr>\n",
       "  </tbody>\n",
       "</table>\n",
       "</div>"
      ],
      "text/plain": [
       "      id                                           overview release_date  \\\n",
       "0    862  Led by Woody, Andy's toys live happily in his ...   1995-10-30   \n",
       "1   8844  When siblings Judy and Peter discover an encha...   1995-12-15   \n",
       "2  15602  A family wedding reignites the ancient feud be...   1995-12-22   \n",
       "3  31357  Cheated on, mistreated and stepped on, the wom...   1995-12-22   \n",
       "4  11862  Just when George Banks has recovered from his ...   1995-02-10   \n",
       "5    949  Obsessive master thief, Neil McCauley leads a ...   1995-12-15   \n",
       "6  11860  An ugly duckling having undergone a remarkable...   1995-12-15   \n",
       "7  45325  A mischievous young boy, Tom Sawyer, witnesses...   1995-12-22   \n",
       "8   9091  International action superstar Jean Claude Van...   1995-12-22   \n",
       "9    710  James Bond must unmask the mysterious head of ...   1995-11-16   \n",
       "\n",
       "                         title  \n",
       "0                    Toy Story  \n",
       "1                      Jumanji  \n",
       "2             Grumpier Old Men  \n",
       "3            Waiting to Exhale  \n",
       "4  Father of the Bride Part II  \n",
       "5                         Heat  \n",
       "6                      Sabrina  \n",
       "7                 Tom and Huck  \n",
       "8                 Sudden Death  \n",
       "9                    GoldenEye  "
      ]
     },
     "execution_count": 3,
     "metadata": {},
     "output_type": "execute_result"
    }
   ],
   "source": [
    "df = pd.read_csv(movies_path, usecols=['id', 'title', 'overview', 'release_date'])\n",
    "df.head(n=10)"
   ]
  },
  {
   "cell_type": "code",
   "execution_count": 4,
   "id": "0fa531e3-894c-45e3-a975-387a52d2b0bc",
   "metadata": {},
   "outputs": [
    {
     "data": {
      "text/plain": [
       "[{'id': '862',\n",
       "  'overview': \"Led by Woody, Andy's toys live happily in his room until Andy's birthday brings Buzz Lightyear onto the scene. Afraid of losing his place in Andy's heart, Woody plots against Buzz. But when circumstances separate Buzz and Woody from their owner, the duo eventually learns to put aside their differences.\",\n",
       "  'release_date': '1995-10-30',\n",
       "  'title': 'Toy Story'},\n",
       " {'id': '8844',\n",
       "  'overview': \"When siblings Judy and Peter discover an enchanted board game that opens the door to a magical world, they unwittingly invite Alan -- an adult who's been trapped inside the game for 26 years -- into their living room. Alan's only hope for freedom is to finish the game, which proves risky as all three find themselves running from giant rhinoceroses, evil monkeys and other terrifying creatures.\",\n",
       "  'release_date': '1995-12-15',\n",
       "  'title': 'Jumanji'},\n",
       " {'id': '15602',\n",
       "  'overview': \"A family wedding reignites the ancient feud between next-door neighbors and fishing buddies John and Max. Meanwhile, a sultry Italian divorcée opens a restaurant at the local bait shop, alarming the locals who worry she'll scare the fish away. But she's less interested in seafood than she is in cooking up a hot time with Max.\",\n",
       "  'release_date': '1995-12-22',\n",
       "  'title': 'Grumpier Old Men'},\n",
       " {'id': '31357',\n",
       "  'overview': 'Cheated on, mistreated and stepped on, the women are holding their breath, waiting for the elusive \"good man\" to break a string of less-than-stellar lovers. Friends and confidants Vannah, Bernie, Glo and Robin talk it all out, determined to find a better way to breathe.',\n",
       "  'release_date': '1995-12-22',\n",
       "  'title': 'Waiting to Exhale'},\n",
       " {'id': '11862',\n",
       "  'overview': \"Just when George Banks has recovered from his daughter's wedding, he receives the news that she's pregnant ... and that George's wife, Nina, is expecting too. He was planning on selling their home, but that's a plan that -- like George -- will have to change with the arrival of both a grandchild and a kid of his own.\",\n",
       "  'release_date': '1995-02-10',\n",
       "  'title': 'Father of the Bride Part II'},\n",
       " {'id': '949',\n",
       "  'overview': 'Obsessive master thief, Neil McCauley leads a top-notch crew on various insane heists throughout Los Angeles while a mentally unstable detective, Vincent Hanna pursues him without rest. Each man recognizes and respects the ability and the dedication of the other even though they are aware their cat-and-mouse game may end in violence.',\n",
       "  'release_date': '1995-12-15',\n",
       "  'title': 'Heat'},\n",
       " {'id': '11860',\n",
       "  'overview': 'An ugly duckling having undergone a remarkable change, still harbors feelings for her crush: a carefree playboy, but not before his business-focused brother has something to say about it.',\n",
       "  'release_date': '1995-12-15',\n",
       "  'title': 'Sabrina'},\n",
       " {'id': '45325',\n",
       "  'overview': 'A mischievous young boy, Tom Sawyer, witnesses a murder by the deadly Injun Joe. Tom becomes friends with Huckleberry Finn, a boy with no future and no family. Tom has to choose between honoring a friendship or honoring an oath because the town alcoholic is accused of the murder. Tom and Huck go through several adventures trying to retrieve evidence.',\n",
       "  'release_date': '1995-12-22',\n",
       "  'title': 'Tom and Huck'},\n",
       " {'id': '9091',\n",
       "  'overview': \"International action superstar Jean Claude Van Damme teams with Powers Boothe in a Tension-packed, suspense thriller, set against the back-drop of a Stanley Cup game.Van Damme portrays a father whose daughter is suddenly taken during a championship hockey game. With the captors demanding a billion dollars by game's end, Van Damme frantically sets a plan in motion to rescue his daughter and abort an impending explosion before the final buzzer...\",\n",
       "  'release_date': '1995-12-22',\n",
       "  'title': 'Sudden Death'},\n",
       " {'id': '710',\n",
       "  'overview': 'James Bond must unmask the mysterious head of the Janus Syndicate and prevent the leader from utilizing the GoldenEye weapons system to inflict devastating revenge on Britain.',\n",
       "  'release_date': '1995-11-16',\n",
       "  'title': 'GoldenEye'}]"
      ]
     },
     "execution_count": 4,
     "metadata": {},
     "output_type": "execute_result"
    }
   ],
   "source": [
    "movie_records = df.to_dict('records')\n",
    "movie_records[0:10]"
   ]
  },
  {
   "cell_type": "code",
   "execution_count": 5,
   "id": "e83909fa-52c8-4a73-8eb5-ee626ac0033f",
   "metadata": {},
   "outputs": [
    {
     "data": {
      "text/plain": [
       "[{'id': 862,\n",
       "  'title': 'Toy Story',\n",
       "  'overview': \"Led by Woody, Andy's toys live happily in his room until Andy's birthday brings Buzz Lightyear onto the scene. Afraid of losing his place in Andy's heart, Woody plots against Buzz. But when circumstances separate Buzz and Woody from their owner, the duo eventually learns to put aside their differences.\",\n",
       "  'released': datetime.date(1995, 10, 30)},\n",
       " {'id': 8844,\n",
       "  'title': 'Jumanji',\n",
       "  'overview': \"When siblings Judy and Peter discover an enchanted board game that opens the door to a magical world, they unwittingly invite Alan -- an adult who's been trapped inside the game for 26 years -- into their living room. Alan's only hope for freedom is to finish the game, which proves risky as all three find themselves running from giant rhinoceroses, evil monkeys and other terrifying creatures.\",\n",
       "  'released': datetime.date(1995, 12, 15)},\n",
       " {'id': 15602,\n",
       "  'title': 'Grumpier Old Men',\n",
       "  'overview': \"A family wedding reignites the ancient feud between next-door neighbors and fishing buddies John and Max. Meanwhile, a sultry Italian divorcée opens a restaurant at the local bait shop, alarming the locals who worry she'll scare the fish away. But she's less interested in seafood than she is in cooking up a hot time with Max.\",\n",
       "  'released': datetime.date(1995, 12, 22)},\n",
       " {'id': 31357,\n",
       "  'title': 'Waiting to Exhale',\n",
       "  'overview': 'Cheated on, mistreated and stepped on, the women are holding their breath, waiting for the elusive \"good man\" to break a string of less-than-stellar lovers. Friends and confidants Vannah, Bernie, Glo and Robin talk it all out, determined to find a better way to breathe.',\n",
       "  'released': datetime.date(1995, 12, 22)},\n",
       " {'id': 11862,\n",
       "  'title': 'Father of the Bride Part II',\n",
       "  'overview': \"Just when George Banks has recovered from his daughter's wedding, he receives the news that she's pregnant ... and that George's wife, Nina, is expecting too. He was planning on selling their home, but that's a plan that -- like George -- will have to change with the arrival of both a grandchild and a kid of his own.\",\n",
       "  'released': datetime.date(1995, 2, 10)},\n",
       " {'id': 949,\n",
       "  'title': 'Heat',\n",
       "  'overview': 'Obsessive master thief, Neil McCauley leads a top-notch crew on various insane heists throughout Los Angeles while a mentally unstable detective, Vincent Hanna pursues him without rest. Each man recognizes and respects the ability and the dedication of the other even though they are aware their cat-and-mouse game may end in violence.',\n",
       "  'released': datetime.date(1995, 12, 15)},\n",
       " {'id': 11860,\n",
       "  'title': 'Sabrina',\n",
       "  'overview': 'An ugly duckling having undergone a remarkable change, still harbors feelings for her crush: a carefree playboy, but not before his business-focused brother has something to say about it.',\n",
       "  'released': datetime.date(1995, 12, 15)},\n",
       " {'id': 45325,\n",
       "  'title': 'Tom and Huck',\n",
       "  'overview': 'A mischievous young boy, Tom Sawyer, witnesses a murder by the deadly Injun Joe. Tom becomes friends with Huckleberry Finn, a boy with no future and no family. Tom has to choose between honoring a friendship or honoring an oath because the town alcoholic is accused of the murder. Tom and Huck go through several adventures trying to retrieve evidence.',\n",
       "  'released': datetime.date(1995, 12, 22)},\n",
       " {'id': 9091,\n",
       "  'title': 'Sudden Death',\n",
       "  'overview': \"International action superstar Jean Claude Van Damme teams with Powers Boothe in a Tension-packed, suspense thriller, set against the back-drop of a Stanley Cup game.Van Damme portrays a father whose daughter is suddenly taken during a championship hockey game. With the captors demanding a billion dollars by game's end, Van Damme frantically sets a plan in motion to rescue his daughter and abort an impending explosion before the final buzzer...\",\n",
       "  'released': datetime.date(1995, 12, 22)},\n",
       " {'id': 710,\n",
       "  'title': 'GoldenEye',\n",
       "  'overview': 'James Bond must unmask the mysterious head of the Janus Syndicate and prevent the leader from utilizing the GoldenEye weapons system to inflict devastating revenge on Britain.',\n",
       "  'released': datetime.date(1995, 11, 16)}]"
      ]
     },
     "execution_count": 5,
     "metadata": {},
     "output_type": "execute_result"
    }
   ],
   "source": [
    "from datetime import datetime\n",
    "\n",
    "dataset = []\n",
    "for record in movie_records:\n",
    "    try:\n",
    "        movie_id = int(record['id'])\n",
    "    except:\n",
    "        movie_id = None\n",
    "    title = record['title']\n",
    "    overview = record['overview']\n",
    "    try:\n",
    "        released = datetime.strptime(record['release_date'], '%Y-%m-%d').date()\n",
    "    except:\n",
    "        released = None\n",
    "    dataset.append({'id': movie_id, 'title': title, 'overview': overview, 'released': released})\n",
    "\n",
    "dataset[0:10]"
   ]
  },
  {
   "cell_type": "code",
   "execution_count": 6,
   "id": "43966586-7b15-4ed2-b724-f2b424214c2d",
   "metadata": {},
   "outputs": [
    {
     "data": {
      "text/plain": [
       "[<Movie: Toy Story (1995)>,\n",
       " <Movie: Jumanji (1995)>,\n",
       " <Movie: Grumpier Old Men (1995)>,\n",
       " <Movie: Waiting to Exhale (1995)>,\n",
       " <Movie: Father of the Bride Part II (1995)>,\n",
       " <Movie: Heat (1995)>,\n",
       " <Movie: Sabrina (1995)>,\n",
       " <Movie: Tom and Huck (1995)>,\n",
       " <Movie: Sudden Death (1995)>,\n",
       " <Movie: GoldenEye (1995)>]"
      ]
     },
     "execution_count": 6,
     "metadata": {},
     "output_type": "execute_result"
    }
   ],
   "source": [
    "from movies.models import Movie\n",
    "\n",
    "movies = Movie.objects.bulk_create([Movie(**item) for item in dataset], ignore_conflicts=True)\n",
    "\n",
    "movies[0:10]"
   ]
  }
 ],
 "metadata": {
  "kernelspec": {
   "display_name": "Python 3 (ipykernel)",
   "language": "python",
   "name": "python3"
  },
  "language_info": {
   "codemirror_mode": {
    "name": "ipython",
    "version": 3
   },
   "file_extension": ".py",
   "mimetype": "text/x-python",
   "name": "python",
   "nbconvert_exporter": "python",
   "pygments_lexer": "ipython3",
   "version": "3.11.8"
  }
 },
 "nbformat": 4,
 "nbformat_minor": 5
}
